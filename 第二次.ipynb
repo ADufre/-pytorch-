{
 "cells": [
  {
   "cell_type": "code",
   "execution_count": 2,
   "id": "f66bc8ed",
   "metadata": {},
   "outputs": [
    {
     "name": "stdout",
     "output_type": "stream",
     "text": [
      "Collecting torchvision\n",
      "  Downloading torchvision-0.12.0-cp37-cp37m-win_amd64.whl (1.0 MB)\n",
      "Requirement already satisfied: torch==1.11.0 in c:\\users\\17701\\anaconda3\\envs\\pytorch\\lib\\site-packages (from torchvision) (1.11.0)\n",
      "Collecting requests\n",
      "  Downloading requests-2.27.1-py2.py3-none-any.whl (63 kB)\n",
      "Requirement already satisfied: typing-extensions in c:\\users\\17701\\anaconda3\\envs\\pytorch\\lib\\site-packages (from torchvision) (3.10.0.2)\n",
      "Requirement already satisfied: numpy in c:\\users\\17701\\anaconda3\\envs\\pytorch\\lib\\site-packages (from torchvision) (1.21.5)\n",
      "Requirement already satisfied: pillow!=8.3.*,>=5.3.0 in c:\\users\\17701\\anaconda3\\envs\\pytorch\\lib\\site-packages (from torchvision) (9.0.1)\n",
      "Collecting charset-normalizer~=2.0.0\n",
      "  Downloading charset_normalizer-2.0.12-py3-none-any.whl (39 kB)\n",
      "Collecting idna<4,>=2.5\n",
      "  Downloading idna-3.3-py3-none-any.whl (61 kB)\n",
      "Requirement already satisfied: certifi>=2017.4.17 in c:\\users\\17701\\anaconda3\\envs\\pytorch\\lib\\site-packages (from requests->torchvision) (2021.10.8)\n",
      "Collecting urllib3<1.27,>=1.21.1\n",
      "  Downloading urllib3-1.26.9-py2.py3-none-any.whl (138 kB)\n",
      "Installing collected packages: urllib3, idna, charset-normalizer, requests, torchvision\n",
      "Successfully installed charset-normalizer-2.0.12 idna-3.3 requests-2.27.1 torchvision-0.12.0 urllib3-1.26.9\n"
     ]
    }
   ],
   "source": [
    "!pip install torchvision"
   ]
  },
  {
   "cell_type": "code",
   "execution_count": 3,
   "id": "112b5fd3",
   "metadata": {},
   "outputs": [],
   "source": [
    "import numpy as np\n",
    "import torch\n",
    "from torchvision.datasets import mnist # 导入 pytorch 内置的 mnist 数据\n",
    "from torch import nn\n",
    "from torch.autograd import Variable"
   ]
  },
  {
   "cell_type": "code",
   "execution_count": 4,
   "id": "31269862",
   "metadata": {},
   "outputs": [
    {
     "name": "stdout",
     "output_type": "stream",
     "text": [
      "Downloading http://yann.lecun.com/exdb/mnist/train-images-idx3-ubyte.gz\n"
     ]
    },
    {
     "name": "stderr",
     "output_type": "stream",
     "text": [
      "0.3%"
     ]
    },
    {
     "name": "stdout",
     "output_type": "stream",
     "text": [
      "Downloading http://yann.lecun.com/exdb/mnist/train-images-idx3-ubyte.gz to ./data\\MNIST\\raw\\train-images-idx3-ubyte.gz\n"
     ]
    },
    {
     "name": "stderr",
     "output_type": "stream",
     "text": [
      "100.0%\n"
     ]
    },
    {
     "name": "stdout",
     "output_type": "stream",
     "text": [
      "Extracting ./data\\MNIST\\raw\\train-images-idx3-ubyte.gz to ./data\\MNIST\\raw\n",
      "\n",
      "Downloading http://yann.lecun.com/exdb/mnist/train-labels-idx1-ubyte.gz\n",
      "Downloading http://yann.lecun.com/exdb/mnist/train-labels-idx1-ubyte.gz to ./data\\MNIST\\raw\\train-labels-idx1-ubyte.gz\n"
     ]
    },
    {
     "name": "stderr",
     "output_type": "stream",
     "text": [
      "102.8%\n"
     ]
    },
    {
     "name": "stdout",
     "output_type": "stream",
     "text": [
      "Extracting ./data\\MNIST\\raw\\train-labels-idx1-ubyte.gz to ./data\\MNIST\\raw\n",
      "\n",
      "Downloading http://yann.lecun.com/exdb/mnist/t10k-images-idx3-ubyte.gz\n",
      "Downloading http://yann.lecun.com/exdb/mnist/t10k-images-idx3-ubyte.gz to ./data\\MNIST\\raw\\t10k-images-idx3-ubyte.gz\n"
     ]
    },
    {
     "name": "stderr",
     "output_type": "stream",
     "text": [
      "100.0%\n"
     ]
    },
    {
     "name": "stdout",
     "output_type": "stream",
     "text": [
      "Extracting ./data\\MNIST\\raw\\t10k-images-idx3-ubyte.gz to ./data\\MNIST\\raw\n",
      "\n",
      "Downloading http://yann.lecun.com/exdb/mnist/t10k-labels-idx1-ubyte.gz\n"
     ]
    },
    {
     "name": "stderr",
     "output_type": "stream",
     "text": [
      "112.7%"
     ]
    },
    {
     "name": "stdout",
     "output_type": "stream",
     "text": [
      "Downloading http://yann.lecun.com/exdb/mnist/t10k-labels-idx1-ubyte.gz to ./data\\MNIST\\raw\\t10k-labels-idx1-ubyte.gz\n",
      "Extracting ./data\\MNIST\\raw\\t10k-labels-idx1-ubyte.gz to ./data\\MNIST\\raw\n",
      "\n"
     ]
    },
    {
     "name": "stderr",
     "output_type": "stream",
     "text": [
      "\n"
     ]
    }
   ],
   "source": [
    "train_set = mnist.MNIST('./data', train=True, download=True)\n",
    "test_set = mnist.MNIST('./data', train=False, download=True)"
   ]
  },
  {
   "cell_type": "code",
   "execution_count": 12,
   "id": "3ae5cda6",
   "metadata": {},
   "outputs": [
    {
     "data": {
      "image/png": "[encoded data removed]",
      "text/plain": [
       "<PIL.Image.Image image mode=L size=28x28 at 0x22695497E88>"
      ]
     },
     "execution_count": 12,
     "metadata": {},
     "output_type": "execute_result"
    }
   ],
   "source": [
    "a_data,a_label = train_set[7]\n",
    "a_data"
   ]
  },
  {
   "cell_type": "code",
   "execution_count": 14,
   "id": "217c3153",
   "metadata": {},
   "outputs": [
    {
     "name": "stdout",
     "output_type": "stream",
     "text": [
      "(28, 28)\n",
      "[[  0.   0.   0.   0.   0.   0.   0.   0.   0.   0.   0.   0.   0.   0.\n",
      "    0.   0.   0.   0.   0.   0.   0.   0.   0.   0.   0.   0.   0.   0.]\n",
      " [  0.   0.   0.   0.   0.   0.   0.   0.   0.   0.   0.   0.   0.   0.\n",
      "    0.   0.   0.   0.   0.   0.   0.   0.   0.   0.   0.   0.   0.   0.]\n",
      " [  0.   0.   0.   0.   0.   0.   0.   0.   0.   0.   0.   0.   0.   0.\n",
      "    0.   0.   0.   0.   0.   0.   0.   0.   0.   0.   0.   0.   0.   0.]\n",
      " [  0.   0.   0.   0.   0.   0.   0.   0.   0.   0.   0.   0.   0.   0.\n",
      "    0.   0.   0.   0.   0.   0.   0.   0.   0.   0.   0.   0.   0.   0.]\n",
      " [  0.   0.   0.   0.   0.   0.   0.   0.   0.   0.   0.   0.   0.   0.\n",
      "    0.   0.   0.   0.   0.   0.   0.   0.   0.   0.   0.   0.   0.   0.]\n",
      " [  0.   0.   0.   0.   0.   0.   0.   0.   0.   0.   0.  38.  43. 105.\n",
      "  255. 253. 253. 253. 253. 253. 174.   6.   0.   0.   0.   0.   0.   0.]\n",
      " [  0.   0.   0.   0.   0.   0.   0.   0.   0.  43. 139. 224. 226. 252.\n",
      "  253. 252. 252. 252. 252. 252. 252. 158.  14.   0.   0.   0.   0.   0.]\n",
      " [  0.   0.   0.   0.   0.   0.   0.   0.   0. 178. 252. 252. 252. 252.\n",
      "  253. 252. 252. 252. 252. 252. 252. 252.  59.   0.   0.   0.   0.   0.]\n",
      " [  0.   0.   0.   0.   0.   0.   0.   0.   0. 109. 252. 252. 230. 132.\n",
      "  133. 132. 132. 189. 252. 252. 252. 252.  59.   0.   0.   0.   0.   0.]\n",
      " [  0.   0.   0.   0.   0.   0.   0.   0.   0.   4.  29.  29.  24.   0.\n",
      "    0.   0.   0.  14. 226. 252. 252. 172.   7.   0.   0.   0.   0.   0.]\n",
      " [  0.   0.   0.   0.   0.   0.   0.   0.   0.   0.   0.   0.   0.   0.\n",
      "    0.   0.   0.  85. 243. 252. 252. 144.   0.   0.   0.   0.   0.   0.]\n",
      " [  0.   0.   0.   0.   0.   0.   0.   0.   0.   0.   0.   0.   0.   0.\n",
      "    0.   0.  88. 189. 252. 252. 252.  14.   0.   0.   0.   0.   0.   0.]\n",
      " [  0.   0.   0.   0.   0.   0.   0.   0.   0.   0.   0.   0.   0.   0.\n",
      "   91. 212. 247. 252. 252. 252. 204.   9.   0.   0.   0.   0.   0.   0.]\n",
      " [  0.   0.   0.   0.   0.   0.   0.   0.   0.  32. 125. 193. 193. 193.\n",
      "  253. 252. 252. 252. 238. 102.  28.   0.   0.   0.   0.   0.   0.   0.]\n",
      " [  0.   0.   0.   0.   0.   0.   0.   0.  45. 222. 252. 252. 252. 252.\n",
      "  253. 252. 252. 252. 177.   0.   0.   0.   0.   0.   0.   0.   0.   0.]\n",
      " [  0.   0.   0.   0.   0.   0.   0.   0.  45. 223. 253. 253. 253. 253.\n",
      "  255. 253. 253. 253. 253.  74.   0.   0.   0.   0.   0.   0.   0.   0.]\n",
      " [  0.   0.   0.   0.   0.   0.   0.   0.   0.  31. 123.  52.  44.  44.\n",
      "   44.  44. 143. 252. 252.  74.   0.   0.   0.   0.   0.   0.   0.   0.]\n",
      " [  0.   0.   0.   0.   0.   0.   0.   0.   0.   0.   0.   0.   0.   0.\n",
      "    0.   0.  15. 252. 252.  74.   0.   0.   0.   0.   0.   0.   0.   0.]\n",
      " [  0.   0.   0.   0.   0.   0.   0.   0.   0.   0.   0.   0.   0.   0.\n",
      "    0.   0.  86. 252. 252.  74.   0.   0.   0.   0.   0.   0.   0.   0.]\n",
      " [  0.   0.   0.   0.   0.   0.   5.  75.   9.   0.   0.   0.   0.   0.\n",
      "    0.  98. 242. 252. 252.  74.   0.   0.   0.   0.   0.   0.   0.   0.]\n",
      " [  0.   0.   0.   0.   0.  61. 183. 252.  29.   0.   0.   0.   0.  18.\n",
      "   92. 239. 252. 252. 243.  65.   0.   0.   0.   0.   0.   0.   0.   0.]\n",
      " [  0.   0.   0.   0.   0. 208. 252. 252. 147. 134. 134. 134. 134. 203.\n",
      "  253. 252. 252. 188.  83.   0.   0.   0.   0.   0.   0.   0.   0.   0.]\n",
      " [  0.   0.   0.   0.   0. 208. 252. 252. 252. 252. 252. 252. 252. 252.\n",
      "  253. 230. 153.   8.   0.   0.   0.   0.   0.   0.   0.   0.   0.   0.]\n",
      " [  0.   0.   0.   0.   0.  49. 157. 252. 252. 252. 252. 252. 217. 207.\n",
      "  146.  45.   0.   0.   0.   0.   0.   0.   0.   0.   0.   0.   0.   0.]\n",
      " [  0.   0.   0.   0.   0.   0.   7. 103. 235. 252. 172. 103.  24.   0.\n",
      "    0.   0.   0.   0.   0.   0.   0.   0.   0.   0.   0.   0.   0.   0.]\n",
      " [  0.   0.   0.   0.   0.   0.   0.   0.   0.   0.   0.   0.   0.   0.\n",
      "    0.   0.   0.   0.   0.   0.   0.   0.   0.   0.   0.   0.   0.   0.]\n",
      " [  0.   0.   0.   0.   0.   0.   0.   0.   0.   0.   0.   0.   0.   0.\n",
      "    0.   0.   0.   0.   0.   0.   0.   0.   0.   0.   0.   0.   0.   0.]\n",
      " [  0.   0.   0.   0.   0.   0.   0.   0.   0.   0.   0.   0.   0.   0.\n",
      "    0.   0.   0.   0.   0.   0.   0.   0.   0.   0.   0.   0.   0.   0.]]\n"
     ]
    }
   ],
   "source": [
    "a_data = np.array(a_data, dtype='float32')#类型转换为array\n",
    "print(a_data.shape)\n",
    "print(a_data)"
   ]
  },
  {
   "cell_type": "markdown",
   "id": "4cbd2d5b",
   "metadata": {},
   "source": [
    "随后进行数据预处理，将其标准化后拉平为一维向量。随后将数据集重新载入\n",
    "注意这里载入的前后语句有所不同。"
   ]
  },
  {
   "cell_type": "code",
   "execution_count": 15,
   "id": "fea00a62",
   "metadata": {},
   "outputs": [],
   "source": [
    "def data_tf(x):\n",
    "    x = np.array(x,dtype='float32')/255\n",
    "    x = (x-0.5)/0.5\n",
    "    x = x.reshape((-1,))\n",
    "    x = torch.from_numpy(x)\n",
    "    return x\n",
    "train_set = mnist.MNIST('./data', train=True, transform=data_tf, download=True) \n",
    "test_set = mnist.MNIST('./data', train=False, transform=data_tf, download=True)"
   ]
  },
  {
   "cell_type": "code",
   "execution_count": 16,
   "id": "43c0797e",
   "metadata": {},
   "outputs": [
    {
     "name": "stdout",
     "output_type": "stream",
     "text": [
      "torch.Size([784])\n",
      "5\n"
     ]
    }
   ],
   "source": [
    "a,a_label = train_set[0]\n",
    "print(a.shape)\n",
    "print(a_label)"
   ]
  },
  {
   "cell_type": "code",
   "execution_count": 17,
   "id": "31b528f3",
   "metadata": {},
   "outputs": [],
   "source": [
    "from torch.utils.data import DataLoader\n",
    "# 使用 pytorch 自带的 DataLoader 定义一个数据迭代器\n",
    "#将自定义的Dataset根据batch size大小、是否shuffle等封装成一个Batch Size大小的Tensor，用于后面的训练。\n",
    "train_data = DataLoader(train_set, batch_size=64, shuffle=True)\n",
    "test_data = DataLoader(test_set, batch_size=128, shuffle=False)"
   ]
  },
  {
   "cell_type": "code",
   "execution_count": 19,
   "id": "788badf8",
   "metadata": {},
   "outputs": [
    {
     "name": "stdout",
     "output_type": "stream",
     "text": [
      "torch.Size([64, 784])\n",
      "torch.Size([64])\n"
     ]
    }
   ],
   "source": [
    "a,a_label = next(iter(train_data))\n",
    "print(a.shape)\n",
    "print(a_label.shape)"
   ]
  },
  {
   "cell_type": "code",
   "execution_count": 49,
   "id": "586ceef6",
   "metadata": {},
   "outputs": [],
   "source": [
    "wangzhiyong_net = nn.Sequential(\n",
    "    nn.Linear(784,700),\n",
    "    nn.ReLU(),\n",
    "    nn.Linear(700,600),\n",
    "    nn.ReLU(),\n",
    "    nn.Linear(600,500),\n",
    "    nn.ReLU(),\n",
    "    nn.Linear(500,400),\n",
    "    nn.ReLU(),\n",
    "    nn.Linear(400,200),\n",
    "    nn.ReLU(),\n",
    "    nn.Linear(200,10)\n",
    "    #注意由于为十分类，最后的输出维度为10\n",
    ")"
   ]
  },
  {
   "cell_type": "code",
   "execution_count": 50,
   "id": "096f3e23",
   "metadata": {},
   "outputs": [
    {
     "data": {
      "text/plain": [
       "Sequential(\n",
       "  (0): Linear(in_features=784, out_features=700, bias=True)\n",
       "  (1): ReLU()\n",
       "  (2): Linear(in_features=700, out_features=600, bias=True)\n",
       "  (3): ReLU()\n",
       "  (4): Linear(in_features=600, out_features=500, bias=True)\n",
       "  (5): ReLU()\n",
       "  (6): Linear(in_features=500, out_features=400, bias=True)\n",
       "  (7): ReLU()\n",
       "  (8): Linear(in_features=400, out_features=200, bias=True)\n",
       "  (9): ReLU()\n",
       "  (10): Linear(in_features=200, out_features=10, bias=True)\n",
       ")"
      ]
     },
     "execution_count": 50,
     "metadata": {},
     "output_type": "execute_result"
    }
   ],
   "source": [
    "wangzhiyong_net"
   ]
  },
  {
   "cell_type": "code",
   "execution_count": 51,
   "id": "64bb9304",
   "metadata": {},
   "outputs": [],
   "source": [
    "#设置损失函数以及参数优化方式(随机梯度下降)\n",
    "criterion = nn.CrossEntropyLoss()\n",
    "optimizer = torch.optim.SGD(wangzhiyong_net.parameters(),1e-1)"
   ]
  },
  {
   "cell_type": "code",
   "execution_count": 52,
   "id": "4b6f3c6a",
   "metadata": {},
   "outputs": [
    {
     "name": "stdout",
     "output_type": "stream",
     "text": [
      "epoch: 0, Train Loss: 0.828121, Train Acc: 0.716285, Eval Loss: 0.284289, Eval Acc: 0.908228\n",
      "epoch: 1, Train Loss: 0.187418, Train Acc: 0.942614, Eval Loss: 0.166111, Eval Acc: 0.950455\n",
      "epoch: 2, Train Loss: 0.128779, Train Acc: 0.960588, Eval Loss: 0.182619, Eval Acc: 0.941357\n",
      "epoch: 3, Train Loss: 0.097299, Train Acc: 0.970099, Eval Loss: 0.091751, Eval Acc: 0.972112\n",
      "epoch: 4, Train Loss: 0.074751, Train Acc: 0.976996, Eval Loss: 0.147619, Eval Acc: 0.955597\n",
      "epoch: 5, Train Loss: 0.064189, Train Acc: 0.979861, Eval Loss: 0.116745, Eval Acc: 0.966278\n",
      "epoch: 6, Train Loss: 0.053928, Train Acc: 0.982693, Eval Loss: 0.102205, Eval Acc: 0.969146\n",
      "epoch: 7, Train Loss: 0.046535, Train Acc: 0.984958, Eval Loss: 0.083942, Eval Acc: 0.976464\n",
      "epoch: 8, Train Loss: 0.036922, Train Acc: 0.987990, Eval Loss: 0.077681, Eval Acc: 0.976958\n",
      "epoch: 9, Train Loss: 0.031098, Train Acc: 0.990005, Eval Loss: 0.092831, Eval Acc: 0.974090\n",
      "epoch: 10, Train Loss: 0.038933, Train Acc: 0.988456, Eval Loss: 0.077509, Eval Acc: 0.977453\n",
      "epoch: 11, Train Loss: 0.027052, Train Acc: 0.991321, Eval Loss: 0.143922, Eval Acc: 0.963805\n",
      "epoch: 12, Train Loss: 0.024822, Train Acc: 0.991904, Eval Loss: 0.179904, Eval Acc: 0.952828\n",
      "epoch: 13, Train Loss: 0.018521, Train Acc: 0.994020, Eval Loss: 0.076951, Eval Acc: 0.979727\n",
      "epoch: 14, Train Loss: 0.021507, Train Acc: 0.992904, Eval Loss: 0.073659, Eval Acc: 0.979925\n",
      "epoch: 15, Train Loss: 0.014668, Train Acc: 0.995336, Eval Loss: 0.086334, Eval Acc: 0.978441\n",
      "epoch: 16, Train Loss: 0.012994, Train Acc: 0.995852, Eval Loss: 0.081860, Eval Acc: 0.979134\n",
      "epoch: 17, Train Loss: 0.016928, Train Acc: 0.994420, Eval Loss: 0.075450, Eval Acc: 0.982298\n",
      "epoch: 18, Train Loss: 0.012265, Train Acc: 0.996035, Eval Loss: 0.065643, Eval Acc: 0.983485\n",
      "epoch: 19, Train Loss: 0.010661, Train Acc: 0.996568, Eval Loss: 0.082890, Eval Acc: 0.981210\n"
     ]
    }
   ],
   "source": [
    "losses = []\n",
    "acces = []\n",
    "eval_losses = []\n",
    "eval_acces = []\n",
    "for e in range(20):\n",
    "    train_loss = 0\n",
    "    train_acc = 0\n",
    "    wangzhiyong_net.train()#开始训练模型\n",
    "    for im,label in train_data:\n",
    "        im = Variable(im)\n",
    "        label = Variable(label)\n",
    "        #前向传播\n",
    "        out = wangzhiyong_net(im)\n",
    "        loss = criterion(out,label)\n",
    "        #反向传播\n",
    "        optimizer.zero_grad()\n",
    "        loss.backward()\n",
    "        optimizer.step()\n",
    "        #用下划线来表示不关心的类别\n",
    "        train_loss += loss.item()\n",
    "        _, pred = out.max(1)#给出一张图片对应每种类别的概率的最大值的索引，即为该张图片所属的类别\n",
    "        #计算正确率\n",
    "        num_correct = (pred == label).sum().item()\n",
    "        acc = num_correct / im.shape[0]\n",
    "        train_acc += acc\n",
    "    losses.append(train_loss / len(train_data))\n",
    "    acces.append(train_acc / len(train_data)) \n",
    "    eval_loss = 0\n",
    "    eval_acc = 0\n",
    "    wangzhiyong_net.eval() #开始测试模型\n",
    "    for im, label in test_data:\n",
    "        im = Variable(im)\n",
    "        label = Variable(label)\n",
    "        out = wangzhiyong_net(im)\n",
    "        loss = criterion(out, label)\n",
    "        # 记录误差\n",
    "        eval_loss += loss.item()\n",
    "        # 记录准确率\n",
    "        _, pred = out.max(1)\n",
    "        num_correct = (pred == label).sum().item()\n",
    "        acc = num_correct / im.shape[0]\n",
    "        eval_acc += acc\n",
    "    eval_losses.append(eval_loss / len(test_data))\n",
    "    eval_acces.append(eval_acc / len(test_data))\n",
    "    print('epoch: {}, Train Loss: {:.6f}, Train Acc: {:.6f}, Eval Loss: {:.6f}, Eval Acc: {:.6f}'\n",
    "          .format(e, train_loss / len(train_data), train_acc / len(train_data), \n",
    "                     eval_loss / len(test_data), eval_acc / len(test_data)))"
   ]
  },
  {
   "cell_type": "code",
   "execution_count": 53,
   "id": "ebf63c09",
   "metadata": {},
   "outputs": [
    {
     "data": {
      "text/plain": [
       "[<matplotlib.lines.Line2D at 0x22699e624c8>]"
      ]
     },
     "execution_count": 53,
     "metadata": {},
     "output_type": "execute_result"
    },
    {
     "data": {
      "image/png": "[encoded data removed]",
      "text/plain": [
       "<Figure size 432x288 with 1 Axes>"
      ]
     },
     "metadata": {
      "needs_background": "light"
     },
     "output_type": "display_data"
    }
   ],
   "source": [
    "import matplotlib.pyplot as plt\n",
    "%matplotlib inline\n",
    "plt.title('train loss')\n",
    "plt.plot(np.arange(len(losses)),losses)"
   ]
  },
  {
   "cell_type": "code",
   "execution_count": 54,
   "id": "2a55a1f7",
   "metadata": {},
   "outputs": [
    {
     "data": {
      "text/plain": [
       "Text(0.5, 1.0, 'train acc')"
      ]
     },
     "execution_count": 54,
     "metadata": {},
     "output_type": "execute_result"
    },
    {
     "data": {
      "image/png": "[encoded data removed]",
      "text/plain": [
       "<Figure size 432x288 with 1 Axes>"
      ]
     },
     "metadata": {
      "needs_background": "light"
     },
     "output_type": "display_data"
    }
   ],
   "source": [
    "plt.plot(np.arange(len(acces)), acces)\n",
    "plt.title('train acc')"
   ]
  },
  {
   "cell_type": "code",
   "execution_count": 55,
   "id": "222d57b3",
   "metadata": {},
   "outputs": [
    {
     "data": {
      "text/plain": [
       "Text(0.5, 1.0, 'test loss')"
      ]
     },
     "execution_count": 55,
     "metadata": {},
     "output_type": "execute_result"
    },
    {
     "data": {
      "image/png": "[encoded data removed]",
      "text/plain": [
       "<Figure size 432x288 with 1 Axes>"
      ]
     },
     "metadata": {
      "needs_background": "light"
     },
     "output_type": "display_data"
    }
   ],
   "source": [
    "plt.plot(np.arange(len(eval_losses)), eval_losses)\n",
    "plt.title('test loss')"
   ]
  },
  {
   "cell_type": "code",
   "execution_count": 56,
   "id": "9022e560",
   "metadata": {},
   "outputs": [
    {
     "data": {
      "text/plain": [
       "Text(0.5, 1.0, 'test acc')"
      ]
     },
     "execution_count": 56,
     "metadata": {},
     "output_type": "execute_result"
    },
    {
     "data": {
      "image/png": "[encoded data removed]",
      "text/plain": [
       "<Figure size 432x288 with 1 Axes>"
      ]
     },
     "metadata": {
      "needs_background": "light"
     },
     "output_type": "display_data"
    }
   ],
   "source": [
    "plt.plot(np.arange(len(eval_acces)), eval_acces)\n",
    "plt.title('test acc')"
   ]
  }
 ],
 "metadata": {
  "kernelspec": {
   "display_name": "Python 3 (ipykernel)",
   "language": "python",
   "name": "python3"
  },
  "language_info": {
   "codemirror_mode": {
    "name": "ipython",
    "version": 3
   },
   "file_extension": ".py",
   "mimetype": "text/x-python",
   "name": "python",
   "nbconvert_exporter": "python",
   "pygments_lexer": "ipython3",
   "version": "3.7.11"
  }
 },
 "nbformat": 4,
 "nbformat_minor": 5
}

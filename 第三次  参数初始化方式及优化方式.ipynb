{
 "cells": [
  {
   "cell_type": "code",
   "execution_count": 1,
   "id": "a51d6814",
   "metadata": {},
   "outputs": [],
   "source": [
    "import numpy as np\n",
    "import torch \n",
    "from torch import nn"
   ]
  },
  {
   "cell_type": "code",
   "execution_count": 2,
   "id": "bafde1c0",
   "metadata": {},
   "outputs": [],
   "source": [
    "net = nn.Sequential(\n",
    "    nn.Linear(30,40),\n",
    "    nn.ReLU(),\n",
    "    nn.Linear(40,50),\n",
    "    nn.ReLU(),\n",
    "    nn.Linear(50,10)\n",
    ")"
   ]
  },
  {
   "cell_type": "code",
   "execution_count": 4,
   "id": "85eb7021",
   "metadata": {},
   "outputs": [
    {
     "name": "stdout",
     "output_type": "stream",
     "text": [
      "torch.Size([40, 30])\n"
     ]
    }
   ],
   "source": [
    "w1 = net[0].weight\n",
    "b1 = net[0].bias\n",
    "print(w1.size())"
   ]
  },
  {
   "cell_type": "code",
   "execution_count": 13,
   "id": "63cb06d6",
   "metadata": {},
   "outputs": [
    {
     "data": {
      "text/plain": [
       "tensor([[-0.6336,  0.8377,  0.5725,  ..., -0.7566, -0.6372, -0.5060],\n",
       "        [ 0.4713, -0.4676,  0.3237,  ...,  0.2730, -0.2929,  0.0972],\n",
       "        [-0.2867,  0.6116, -0.6109,  ..., -0.3885, -0.3102,  0.7678],\n",
       "        ...,\n",
       "        [-0.6776, -0.7251,  0.5586,  ...,  0.2841,  0.4002, -0.3595],\n",
       "        [-0.7067, -0.8414, -0.6723,  ...,  0.4865, -0.4021,  0.2291],\n",
       "        [-1.0785, -0.2047,  0.2537,  ..., -0.4934, -0.0045, -0.7789]],\n",
       "       dtype=torch.float64)"
      ]
     },
     "execution_count": 13,
     "metadata": {},
     "output_type": "execute_result"
    }
   ],
   "source": [
    "w1.data"
   ]
  },
  {
   "cell_type": "code",
   "execution_count": 7,
   "id": "d8d21061",
   "metadata": {},
   "outputs": [
    {
     "name": "stdout",
     "output_type": "stream",
     "text": [
      "Parameter containing:\n",
      "tensor([[4.2170, 3.6859, 3.6047,  ..., 3.6886, 4.2505, 3.1825],\n",
      "        [3.8740, 3.1365, 3.0096,  ..., 3.4001, 3.1456, 3.5802],\n",
      "        [3.9471, 4.9740, 3.2298,  ..., 4.3938, 3.4001, 3.7958],\n",
      "        ...,\n",
      "        [3.6393, 3.8676, 3.0246,  ..., 3.6565, 3.4061, 4.6080],\n",
      "        [4.3591, 4.9437, 3.2440,  ..., 4.2227, 4.0328, 4.2406],\n",
      "        [4.2784, 4.0088, 4.9688,  ..., 3.2573, 3.6988, 3.8773]],\n",
      "       dtype=torch.float64, requires_grad=True)\n"
     ]
    }
   ],
   "source": [
    "net[0].weight.data = torch.from_numpy(np.random.uniform(3, 5, size=(40, 30)))\n",
    "print(net[0].weight)"
   ]
  },
  {
   "cell_type": "markdown",
   "id": "323bd96b",
   "metadata": {},
   "source": [
    "### 下面对模型中同种类型的层进行参数修改(Xavier)"
   ]
  },
  {
   "cell_type": "code",
   "execution_count": 18,
   "id": "0d2348b8",
   "metadata": {},
   "outputs": [],
   "source": [
    "import math\n",
    "for layer in net:\n",
    "    if isinstance(layer, nn.Linear): # 判断是否是线性层\n",
    "        param_shape = layer.weight.shape\n",
    "        param_shape0 = layer.weight.shape[0]\n",
    "        param_shape1 = layer.weight.shape[1]\n",
    "        param = math.sqrt(param_shape0+param_shape1)\n",
    "        a00 = math.sqrt(6)\n",
    "        b00 = a00/param\n",
    "        layer.weight.data = torch.from_numpy(np.random.normal(-b00, b00, size=param_shape)) \n",
    "        # 定义为均值为 0，方差为 0.5 的正态分布"
   ]
  },
  {
   "cell_type": "code",
   "execution_count": 26,
   "id": "68e885e3",
   "metadata": {},
   "outputs": [],
   "source": [
    "class simple(nn.Module):\n",
    "    def __init__(self):\n",
    "        super(simple, self).__init__()\n",
    "        self.l1 = nn.Sequential(\n",
    "            nn.Linear(30, 40),\n",
    "            nn.ReLU()\n",
    "        )\n",
    "        self.l1[0].weight.data = torch.randn(40, 30) \n",
    "        self.l2 = nn.Sequential(\n",
    "            nn.Linear(40, 50),\n",
    "            nn.ReLU()\n",
    "        )\n",
    "        self.l3 = nn.Sequential(\n",
    "            nn.Linear(50, 10),\n",
    "            nn.ReLU()\n",
    "        )\n",
    "    def forward(self, x):\n",
    "        x = self.l1(x)\n",
    "        x = self.l2(x)\n",
    "        x = self.l3(x)\n",
    "        return x    "
   ]
  },
  {
   "cell_type": "code",
   "execution_count": 28,
   "id": "ad2668bf",
   "metadata": {},
   "outputs": [
    {
     "name": "stdout",
     "output_type": "stream",
     "text": [
      "Sequential(\n",
      "  (0): Linear(in_features=30, out_features=40, bias=True)\n",
      "  (1): ReLU()\n",
      ")\n",
      "Sequential(\n",
      "  (0): Linear(in_features=40, out_features=50, bias=True)\n",
      "  (1): ReLU()\n",
      ")\n",
      "Sequential(\n",
      "  (0): Linear(in_features=50, out_features=10, bias=True)\n",
      "  (1): ReLU()\n",
      ")\n"
     ]
    }
   ],
   "source": [
    "net2 = simple()\n",
    "for i in net2.children():\n",
    "    print(i)"
   ]
  },
  {
   "cell_type": "code",
   "execution_count": 29,
   "id": "decf3987",
   "metadata": {},
   "outputs": [
    {
     "name": "stdout",
     "output_type": "stream",
     "text": [
      "simple(\n",
      "  (l1): Sequential(\n",
      "    (0): Linear(in_features=30, out_features=40, bias=True)\n",
      "    (1): ReLU()\n",
      "  )\n",
      "  (l2): Sequential(\n",
      "    (0): Linear(in_features=40, out_features=50, bias=True)\n",
      "    (1): ReLU()\n",
      "  )\n",
      "  (l3): Sequential(\n",
      "    (0): Linear(in_features=50, out_features=10, bias=True)\n",
      "    (1): ReLU()\n",
      "  )\n",
      ")\n",
      "Sequential(\n",
      "  (0): Linear(in_features=30, out_features=40, bias=True)\n",
      "  (1): ReLU()\n",
      ")\n",
      "Linear(in_features=30, out_features=40, bias=True)\n",
      "ReLU()\n",
      "Sequential(\n",
      "  (0): Linear(in_features=40, out_features=50, bias=True)\n",
      "  (1): ReLU()\n",
      ")\n",
      "Linear(in_features=40, out_features=50, bias=True)\n",
      "ReLU()\n",
      "Sequential(\n",
      "  (0): Linear(in_features=50, out_features=10, bias=True)\n",
      "  (1): ReLU()\n",
      ")\n",
      "Linear(in_features=50, out_features=10, bias=True)\n",
      "ReLU()\n"
     ]
    }
   ],
   "source": [
    "for i in net2.modules():\n",
    "    print(i)"
   ]
  },
  {
   "cell_type": "markdown",
   "id": "15b2a81c",
   "metadata": {},
   "source": [
    "##### 下边使用初始化函数对参数进行初始化"
   ]
  },
  {
   "cell_type": "code",
   "execution_count": 31,
   "id": "1a8ca84d",
   "metadata": {},
   "outputs": [
    {
     "name": "stdout",
     "output_type": "stream",
     "text": [
      "Parameter containing:\n",
      "tensor([[-0.1026, -0.4982, -0.2729,  ..., -0.3123, -0.7841, -0.3259],\n",
      "        [-0.4196, -0.4421, -0.3225,  ..., -0.5586,  0.2195, -0.5476],\n",
      "        [-0.4428, -0.3762, -0.5684,  ...,  0.4938, -0.3059, -0.2230],\n",
      "        ...,\n",
      "        [-0.4306,  0.0145, -0.3190,  ..., -0.5308, -0.1155, -0.0829],\n",
      "        [ 0.1953, -0.0857, -0.2604,  ..., -0.2671, -0.3238, -0.3279],\n",
      "        [-0.7315, -0.0495, -0.6972,  ..., -0.1782, -0.2119, -0.3725]],\n",
      "       dtype=torch.float64, requires_grad=True)\n"
     ]
    }
   ],
   "source": [
    "from torch.nn import init\n",
    "print(net[0].weight)"
   ]
  },
  {
   "cell_type": "markdown",
   "id": "3822cd60",
   "metadata": {},
   "source": [
    "##### 与例程不同，版本发生了改变，***_uniform变成了***_uniform_"
   ]
  },
  {
   "cell_type": "code",
   "execution_count": 33,
   "id": "9330331c",
   "metadata": {},
   "outputs": [
    {
     "data": {
      "text/plain": [
       "Parameter containing:\n",
       "tensor([[ 0.1772, -0.1773,  0.1419,  ...,  0.1893, -0.2674,  0.1127],\n",
       "        [ 0.0104,  0.1065,  0.0074,  ..., -0.0463, -0.1958, -0.0447],\n",
       "        [-0.0613, -0.1595, -0.2059,  ..., -0.2027,  0.2862, -0.0066],\n",
       "        ...,\n",
       "        [ 0.2205,  0.0259,  0.1121,  ..., -0.2021, -0.0616, -0.2325],\n",
       "        [-0.0509, -0.2087,  0.2743,  ..., -0.1535,  0.1564, -0.0545],\n",
       "        [-0.1770, -0.1975, -0.1860,  ...,  0.0677,  0.0298, -0.0172]],\n",
       "       dtype=torch.float64, requires_grad=True)"
      ]
     },
     "execution_count": 33,
     "metadata": {},
     "output_type": "execute_result"
    }
   ],
   "source": [
    "init.xavier_uniform_(net[0].weight)"
   ]
  },
  {
   "cell_type": "markdown",
   "id": "61555989",
   "metadata": {},
   "source": [
    "## 下边是参数优化方式"
   ]
  },
  {
   "cell_type": "markdown",
   "id": "56bdbd4c",
   "metadata": {},
   "source": [
    "### 1 随机梯度下降与动量法"
   ]
  },
  {
   "cell_type": "code",
   "execution_count": 34,
   "id": "df0fd20a",
   "metadata": {},
   "outputs": [],
   "source": [
    "import numpy as np\n",
    "import torch\n",
    "from torchvision.datasets import MNIST # 导入 pytorch 内置的 mnist 数据\n",
    "from torch.utils.data import DataLoader\n",
    "from torch import nn\n",
    "from torch.autograd import Variable\n",
    "import time\n",
    "import matplotlib.pyplot as plt\n",
    "%matplotlib inline\n",
    "\n",
    "def data_tf(x):\n",
    "    x = np.array(x, dtype='float32') / 255 # 将数据变到 0 ~ 1 之间\n",
    "    x = (x - 0.5) / 0.5 # 标准化\n",
    "    x = x.reshape((-1,)) # 拉平\n",
    "    x = torch.from_numpy(x)\n",
    "    return x\n",
    "\n",
    "# 载入数据集，申明定义的数据变换\n",
    "\n",
    "train_set = MNIST('./data', train=True, transform=data_tf, download=True) \n",
    "test_set = MNIST('./data', train=False, transform=data_tf, download=True)\n",
    "\n",
    "# 定义 loss 函数\n",
    "criterion = nn.CrossEntropyLoss()"
   ]
  },
  {
   "cell_type": "code",
   "execution_count": 46,
   "id": "f6769d1a",
   "metadata": {},
   "outputs": [
    {
     "name": "stdout",
     "output_type": "stream",
     "text": [
      "epoch: 0, Train Loss: 0.905683\n",
      "epoch: 1, Train Loss: 0.412913\n",
      "epoch: 2, Train Loss: 0.353821\n",
      "epoch: 3, Train Loss: 0.325500\n",
      "epoch: 4, Train Loss: 0.306817\n",
      "使用时间: 43.26565 s\n"
     ]
    }
   ],
   "source": [
    "def sgd_update(parameters,lr):\n",
    "    for param in parameters:\n",
    "        param.data = param.data - lr*param.grad.data\n",
    "        \n",
    "train_data = DataLoader(train_set,batch_size=100,shuffle=True)\n",
    "\n",
    "net = nn.Sequential(\n",
    "    nn.Linear(784,200),\n",
    "    nn.ReLU(),\n",
    "    nn.Linear(200,10),\n",
    ")\n",
    "\n",
    "losses1 = []\n",
    "idx = 0\n",
    "\n",
    "start = time.time()\n",
    "for e in range(5):\n",
    "    train_loss = 0\n",
    "    for im,label in train_data:\n",
    "        im = Variable(im)\n",
    "        label = Variable(label)\n",
    "        # 前向\n",
    "        out = net(im)\n",
    "        loss = criterion(out,label)\n",
    "        # 反向\n",
    "        net.zero_grad()\n",
    "        loss.backward()\n",
    "        sgd_update(net.parameters(),1e-2)\n",
    "        train_loss += loss.item()\n",
    "        if idx % 30 == 0:\n",
    "            losses1.append(loss.item())\n",
    "        idx += 1\n",
    "    print('epoch: {}, Train Loss: {:.6f}'\n",
    "          .format(e, train_loss / len(train_data)))\n",
    "end = time.time() # 计时结束\n",
    "print('使用时间: {:.5f} s'.format(end - start))"
   ]
  },
  {
   "cell_type": "code",
   "execution_count": 47,
   "id": "eb74f7bd",
   "metadata": {},
   "outputs": [
    {
     "data": {
      "text/plain": [
       "<matplotlib.legend.Legend at 0x277b151c2c8>"
      ]
     },
     "execution_count": 47,
     "metadata": {},
     "output_type": "execute_result"
    },
    {
     "data": {
      "image/png": "[encoded data removed]",
      "text/plain": [
       "<Figure size 432x288 with 1 Axes>"
      ]
     },
     "metadata": {
      "needs_background": "light"
     },
     "output_type": "display_data"
    }
   ],
   "source": [
    "x_axis = np.linspace(0, 5, len(losses1), endpoint=True)\n",
    "plt.semilogy(x_axis, losses1, label='batch_size=64')\n",
    "plt.legend(loc='best')"
   ]
  },
  {
   "cell_type": "markdown",
   "id": "391e9e6a",
   "metadata": {},
   "source": [
    "### 使用官方的随机梯度下降方式进行参数更新(在学习率后加上一句momentum=**即可使用动量法进行参数更新)"
   ]
  },
  {
   "cell_type": "code",
   "execution_count": 55,
   "id": "7af751f5",
   "metadata": {},
   "outputs": [
    {
     "name": "stdout",
     "output_type": "stream",
     "text": [
      "epoch: 0, Train Loss: 0.365667\n",
      "epoch: 1, Train Loss: 0.173876\n",
      "epoch: 2, Train Loss: 0.126864\n",
      "epoch: 3, Train Loss: 0.103362\n",
      "epoch: 4, Train Loss: 0.086339\n",
      "使用时间: 50.10520 s\n"
     ]
    }
   ],
   "source": [
    "train_data = DataLoader(train_set, batch_size=64, shuffle=True)\n",
    "# 使用 Sequential 定义 3 层神经网络\n",
    "net = nn.Sequential(\n",
    "    nn.Linear(784, 200),\n",
    "    nn.ReLU(),\n",
    "    nn.Linear(200, 10),\n",
    ")\n",
    "\n",
    "optimzier = torch.optim.SGD(net.parameters(), 1e-2,momentum=0.9)\n",
    "# 开始训练\n",
    "losses = []\n",
    "idx = 0\n",
    "\n",
    "start = time.time() # 记时开始\n",
    "for e in range(5):\n",
    "    train_loss = 0\n",
    "    for im, label in train_data:\n",
    "        im = Variable(im)\n",
    "        label = Variable(label)\n",
    "        # 前向传播\n",
    "        out = net(im)\n",
    "        loss = criterion(out, label)\n",
    "        # 反向传播\n",
    "        optimzier.zero_grad()\n",
    "        loss.backward()\n",
    "        optimzier.step()\n",
    "        # 记录误差\n",
    "        train_loss += loss.item()\n",
    "        if idx % 30 == 0: # 30 步记录一次\n",
    "            losses.append(loss.item())\n",
    "        idx += 1\n",
    "    print('epoch: {}, Train Loss: {:.6f}'\n",
    "          .format(e, train_loss / len(train_data)))\n",
    "end = time.time() # 计时结束\n",
    "print('使用时间: {:.5f} s'.format(end - start))"
   ]
  },
  {
   "cell_type": "code",
   "execution_count": 56,
   "id": "c3b7512c",
   "metadata": {},
   "outputs": [
    {
     "data": {
      "text/plain": [
       "<matplotlib.legend.Legend at 0x277b3abfe48>"
      ]
     },
     "execution_count": 56,
     "metadata": {},
     "output_type": "execute_result"
    },
    {
     "data": {
      "image/png": "[encoded data removed]",
      "text/plain": [
       "<Figure size 432x288 with 1 Axes>"
      ]
     },
     "metadata": {
      "needs_background": "light"
     },
     "output_type": "display_data"
    }
   ],
   "source": [
    "x_axis = np.linspace(0, 5, len(losses), endpoint=True)\n",
    "plt.semilogy(x_axis, losses, label='momentum: 0.9')\n",
    "plt.legend(loc='best')"
   ]
  },
  {
   "cell_type": "code",
   "execution_count": null,
   "id": "48630d5f",
   "metadata": {},
   "outputs": [],
   "source": [
    "# 使用 Sequential 定义 3 层神经网络\n",
    "net = nn.Sequential(\n",
    "    nn.Linear(784, 200),\n",
    "    nn.ReLU(),\n",
    "    nn.Linear(200, 10),\n",
    ")\n",
    "\n",
    "optimizer = torch.optim.SGD(net.parameters(), lr=1e-2) # 不加动量\n",
    "# 开始训练\n",
    "losses1 = []\n",
    "idx = 0\n",
    "start = time.time() # 记时开始\n",
    "for e in range(5):\n",
    "    train_loss = 0\n",
    "    for im, label in train_data:\n",
    "        im = Variable(im)\n",
    "        label = Variable(label)\n",
    "        # 前向传播\n",
    "        out = net(im)\n",
    "        loss = criterion(out, label)\n",
    "        # 反向传播\n",
    "        optimizer.zero_grad()\n",
    "        loss.backward()\n",
    "        optimizer.step()\n",
    "        # 记录误差\n",
    "        train_loss += loss.item()\n",
    "        if idx % 30 == 0: # 30 步记录一次\n",
    "            losses1.append(loss.item())\n",
    "        idx += 1\n",
    "    print('epoch: {}, Train Loss: {:.6f}'\n",
    "          .format(e, train_loss / len(train_data)))\n",
    "end = time.time() # 计时结束\n",
    "print('使用时间: {:.5f} s'.format(end - start))"
   ]
  },
  {
   "cell_type": "code",
   "execution_count": 60,
   "id": "2b2992ef",
   "metadata": {},
   "outputs": [
    {
     "data": {
      "text/plain": [
       "<matplotlib.legend.Legend at 0x277b9c60d48>"
      ]
     },
     "execution_count": 60,
     "metadata": {},
     "output_type": "execute_result"
    },
    {
     "data": {
      "image/png": "[encoded data removed]",
      "text/plain": [
       "<Figure size 432x288 with 1 Axes>"
      ]
     },
     "metadata": {
      "needs_background": "light"
     },
     "output_type": "display_data"
    }
   ],
   "source": [
    "# 两种方式的损失对比\n",
    "x_axis = np.linspace(0, 5, len(losses), endpoint=True)\n",
    "plt.semilogy(x_axis, losses, label='momentum: 0.9')\n",
    "plt.semilogy(x_axis, losses1, label='no momentum')\n",
    "plt.legend(loc='best')"
   ]
  },
  {
   "cell_type": "markdown",
   "id": "79c0aa3d",
   "metadata": {},
   "source": [
    "### 2 Adagrad 只需调用函数torch.optim.Adagrad()即可"
   ]
  },
  {
   "cell_type": "markdown",
   "id": "ddb264f3",
   "metadata": {},
   "source": [
    "### 同样的，后边每一种方式都有对应的函数，直接调用即可。"
   ]
  },
  {
   "cell_type": "markdown",
   "id": "55216a8c",
   "metadata": {},
   "source": [
    "### Adam"
   ]
  },
  {
   "cell_type": "code",
   "execution_count": 61,
   "id": "93b21d60",
   "metadata": {},
   "outputs": [
    {
     "name": "stdout",
     "output_type": "stream",
     "text": [
      "epoch: 0, Train Loss: 0.356708\n",
      "epoch: 1, Train Loss: 0.174241\n",
      "epoch: 2, Train Loss: 0.124275\n",
      "epoch: 3, Train Loss: 0.099799\n",
      "epoch: 4, Train Loss: 0.084166\n",
      "使用时间: 61.18559 s\n"
     ]
    }
   ],
   "source": [
    "train_data = DataLoader(train_set, batch_size=64, shuffle=True)\n",
    "# 使用 Sequential 定义 3 层神经网络\n",
    "net = nn.Sequential(\n",
    "    nn.Linear(784, 200),\n",
    "    nn.ReLU(),\n",
    "    nn.Linear(200, 10),\n",
    ")\n",
    "\n",
    "optimizer = torch.optim.Adam(net.parameters(), lr=1e-3)\n",
    "    \n",
    "# 开始训练\n",
    "start = time.time() # 记时开始\n",
    "for e in range(5):\n",
    "    train_loss = 0\n",
    "    for im, label in train_data:\n",
    "        im = Variable(im)\n",
    "        label = Variable(label)\n",
    "        # 前向传播\n",
    "        out = net(im)\n",
    "        loss = criterion(out, label)\n",
    "        # 反向传播\n",
    "        optimizer.zero_grad()\n",
    "        loss.backward()\n",
    "        optimizer.step()\n",
    "        # 记录误差\n",
    "        train_loss += loss.item()\n",
    "    print('epoch: {}, Train Loss: {:.6f}'\n",
    "          .format(e, train_loss / len(train_data)))\n",
    "end = time.time() # 计时结束\n",
    "print('使用时间: {:.5f} s'.format(end - start))"
   ]
  }
 ],
 "metadata": {
  "kernelspec": {
   "display_name": "Python 3 (ipykernel)",
   "language": "python",
   "name": "python3"
  },
  "language_info": {
   "codemirror_mode": {
    "name": "ipython",
    "version": 3
   },
   "file_extension": ".py",
   "mimetype": "text/x-python",
   "name": "python",
   "nbconvert_exporter": "python",
   "pygments_lexer": "ipython3",
   "version": "3.7.11"
  }
 },
 "nbformat": 4,
 "nbformat_minor": 5
}
